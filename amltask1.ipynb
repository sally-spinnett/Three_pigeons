{
  "nbformat": 4,
  "nbformat_minor": 0,
  "metadata": {
    "colab": {
      "name": "amltask1.ipynb",
      "provenance": [],
      "collapsed_sections": []
    },
    "kernelspec": {
      "name": "python3",
      "display_name": "Python 3"
    },
    "language_info": {
      "name": "python"
    }
  },
  "cells": [
    {
      "cell_type": "code",
      "metadata": {
        "colab": {
          "base_uri": "https://localhost:8080/"
        },
        "id": "6iEUh8B6_Mwt",
        "outputId": "56b8b505-e579-4d20-c948-b25a2b82dcf0"
      },
      "source": [
        "from google.colab import drive\n",
        "drive.mount('/content/gdrive')"
      ],
      "execution_count": 1,
      "outputs": [
        {
          "output_type": "stream",
          "name": "stdout",
          "text": [
            "Mounted at /content/gdrive\n"
          ]
        }
      ]
    },
    {
      "cell_type": "code",
      "metadata": {
        "colab": {
          "base_uri": "https://localhost:8080/"
        },
        "id": "tMep1lcY_5P0",
        "outputId": "838ff1a9-329e-4dff-bcbb-8696938ca0f9"
      },
      "source": [
        "cd /content/gdrive/MyDrive/ETH/AML/task1"
      ],
      "execution_count": 2,
      "outputs": [
        {
          "output_type": "stream",
          "name": "stdout",
          "text": [
            "/content/gdrive/MyDrive/ETH/AML/task1\n"
          ]
        }
      ]
    },
    {
      "cell_type": "code",
      "metadata": {
        "id": "uraGuSi7__CZ"
      },
      "source": [
        "import numpy as np\n",
        "import pandas as pd"
      ],
      "execution_count": 3,
      "outputs": []
    },
    {
      "cell_type": "code",
      "metadata": {
        "id": "INP4YFubADiK"
      },
      "source": [
        "train_cvsx=pd.read_csv('X_train.csv',dtype=np.double)\n",
        "train_x=train_cvsx.iloc[:,1:]\n"
      ],
      "execution_count": 4,
      "outputs": []
    },
    {
      "cell_type": "code",
      "metadata": {
        "colab": {
          "base_uri": "https://localhost:8080/",
          "height": 232
        },
        "id": "ZiHH3RjhBv4N",
        "outputId": "9e9b47ac-14cb-499b-b2e0-fdc16075e0f8"
      },
      "source": [
        "train_cvsx.iloc[0:3]"
      ],
      "execution_count": 5,
      "outputs": [
        {
          "output_type": "execute_result",
          "data": {
            "text/html": [
              "<div>\n",
              "<style scoped>\n",
              "    .dataframe tbody tr th:only-of-type {\n",
              "        vertical-align: middle;\n",
              "    }\n",
              "\n",
              "    .dataframe tbody tr th {\n",
              "        vertical-align: top;\n",
              "    }\n",
              "\n",
              "    .dataframe thead th {\n",
              "        text-align: right;\n",
              "    }\n",
              "</style>\n",
              "<table border=\"1\" class=\"dataframe\">\n",
              "  <thead>\n",
              "    <tr style=\"text-align: right;\">\n",
              "      <th></th>\n",
              "      <th>id</th>\n",
              "      <th>x0</th>\n",
              "      <th>x1</th>\n",
              "      <th>x2</th>\n",
              "      <th>x3</th>\n",
              "      <th>x4</th>\n",
              "      <th>x5</th>\n",
              "      <th>x6</th>\n",
              "      <th>x7</th>\n",
              "      <th>x8</th>\n",
              "      <th>x9</th>\n",
              "      <th>x10</th>\n",
              "      <th>x11</th>\n",
              "      <th>x12</th>\n",
              "      <th>x13</th>\n",
              "      <th>x14</th>\n",
              "      <th>x15</th>\n",
              "      <th>x16</th>\n",
              "      <th>x17</th>\n",
              "      <th>x18</th>\n",
              "      <th>x19</th>\n",
              "      <th>x20</th>\n",
              "      <th>x21</th>\n",
              "      <th>x22</th>\n",
              "      <th>x23</th>\n",
              "      <th>x24</th>\n",
              "      <th>x25</th>\n",
              "      <th>x26</th>\n",
              "      <th>x27</th>\n",
              "      <th>x28</th>\n",
              "      <th>x29</th>\n",
              "      <th>x30</th>\n",
              "      <th>x31</th>\n",
              "      <th>x32</th>\n",
              "      <th>x33</th>\n",
              "      <th>x34</th>\n",
              "      <th>x35</th>\n",
              "      <th>x36</th>\n",
              "      <th>x37</th>\n",
              "      <th>x38</th>\n",
              "      <th>...</th>\n",
              "      <th>x792</th>\n",
              "      <th>x793</th>\n",
              "      <th>x794</th>\n",
              "      <th>x795</th>\n",
              "      <th>x796</th>\n",
              "      <th>x797</th>\n",
              "      <th>x798</th>\n",
              "      <th>x799</th>\n",
              "      <th>x800</th>\n",
              "      <th>x801</th>\n",
              "      <th>x802</th>\n",
              "      <th>x803</th>\n",
              "      <th>x804</th>\n",
              "      <th>x805</th>\n",
              "      <th>x806</th>\n",
              "      <th>x807</th>\n",
              "      <th>x808</th>\n",
              "      <th>x809</th>\n",
              "      <th>x810</th>\n",
              "      <th>x811</th>\n",
              "      <th>x812</th>\n",
              "      <th>x813</th>\n",
              "      <th>x814</th>\n",
              "      <th>x815</th>\n",
              "      <th>x816</th>\n",
              "      <th>x817</th>\n",
              "      <th>x818</th>\n",
              "      <th>x819</th>\n",
              "      <th>x820</th>\n",
              "      <th>x821</th>\n",
              "      <th>x822</th>\n",
              "      <th>x823</th>\n",
              "      <th>x824</th>\n",
              "      <th>x825</th>\n",
              "      <th>x826</th>\n",
              "      <th>x827</th>\n",
              "      <th>x828</th>\n",
              "      <th>x829</th>\n",
              "      <th>x830</th>\n",
              "      <th>x831</th>\n",
              "    </tr>\n",
              "  </thead>\n",
              "  <tbody>\n",
              "    <tr>\n",
              "      <th>0</th>\n",
              "      <td>0.0</td>\n",
              "      <td>10.891876</td>\n",
              "      <td>832442.812375</td>\n",
              "      <td>20585.544083</td>\n",
              "      <td>1028.369495</td>\n",
              "      <td>1.163780e+06</td>\n",
              "      <td>9.199135</td>\n",
              "      <td>597900.477629</td>\n",
              "      <td>NaN</td>\n",
              "      <td>1.144294e+06</td>\n",
              "      <td>785176.201298</td>\n",
              "      <td>38042.008654</td>\n",
              "      <td>106.644316</td>\n",
              "      <td>67475.900839</td>\n",
              "      <td>944696.306555</td>\n",
              "      <td>895.088214</td>\n",
              "      <td>10.819457</td>\n",
              "      <td>155995.454645</td>\n",
              "      <td>10.114602</td>\n",
              "      <td>98.776154</td>\n",
              "      <td>90.200020</td>\n",
              "      <td>107.176656</td>\n",
              "      <td>1.232961e+06</td>\n",
              "      <td>2538.045240</td>\n",
              "      <td>1.038292e+06</td>\n",
              "      <td>10.445353</td>\n",
              "      <td>1530.001316</td>\n",
              "      <td>10403.207060</td>\n",
              "      <td>101.974225</td>\n",
              "      <td>9902.072478</td>\n",
              "      <td>10.675578</td>\n",
              "      <td>1.965179</td>\n",
              "      <td>108.095109</td>\n",
              "      <td>10.491893</td>\n",
              "      <td>985.743949</td>\n",
              "      <td>139494.789412</td>\n",
              "      <td>5555.414472</td>\n",
              "      <td>10079.665710</td>\n",
              "      <td>NaN</td>\n",
              "      <td>1199.950457</td>\n",
              "      <td>...</td>\n",
              "      <td>2.586985</td>\n",
              "      <td>107835.473217</td>\n",
              "      <td>1.050203e+06</td>\n",
              "      <td>961.000963</td>\n",
              "      <td>102.726565</td>\n",
              "      <td>11230.077183</td>\n",
              "      <td>1132.878438</td>\n",
              "      <td>10955.849718</td>\n",
              "      <td>2.358928</td>\n",
              "      <td>1.079014e+06</td>\n",
              "      <td>10.271036</td>\n",
              "      <td>309702.424398</td>\n",
              "      <td>1074.952720</td>\n",
              "      <td>10083.165942</td>\n",
              "      <td>106208.115341</td>\n",
              "      <td>102.072379</td>\n",
              "      <td>119.507651</td>\n",
              "      <td>NaN</td>\n",
              "      <td>1077.836958</td>\n",
              "      <td>NaN</td>\n",
              "      <td>87766.029819</td>\n",
              "      <td>1857.070822</td>\n",
              "      <td>96.997544</td>\n",
              "      <td>NaN</td>\n",
              "      <td>1011.959739</td>\n",
              "      <td>89.184535</td>\n",
              "      <td>107577.830266</td>\n",
              "      <td>2.139276</td>\n",
              "      <td>-3163.219791</td>\n",
              "      <td>1057.888075</td>\n",
              "      <td>1.024198e+06</td>\n",
              "      <td>-855.549602</td>\n",
              "      <td>12176.073427</td>\n",
              "      <td>10.647729</td>\n",
              "      <td>10.916371</td>\n",
              "      <td>1220.065443</td>\n",
              "      <td>8.566724</td>\n",
              "      <td>1.036263e+06</td>\n",
              "      <td>85338.558539</td>\n",
              "      <td>103088.664210</td>\n",
              "    </tr>\n",
              "    <tr>\n",
              "      <th>1</th>\n",
              "      <td>1.0</td>\n",
              "      <td>11.512994</td>\n",
              "      <td>832442.898114</td>\n",
              "      <td>NaN</td>\n",
              "      <td>1012.624877</td>\n",
              "      <td>1.028911e+06</td>\n",
              "      <td>10.906408</td>\n",
              "      <td>597900.458612</td>\n",
              "      <td>8127.016078</td>\n",
              "      <td>1.099166e+06</td>\n",
              "      <td>785176.258299</td>\n",
              "      <td>50949.420639</td>\n",
              "      <td>NaN</td>\n",
              "      <td>93179.779900</td>\n",
              "      <td>926043.432843</td>\n",
              "      <td>1159.073327</td>\n",
              "      <td>10.403125</td>\n",
              "      <td>NaN</td>\n",
              "      <td>10.365511</td>\n",
              "      <td>104.569049</td>\n",
              "      <td>88.722820</td>\n",
              "      <td>102.703415</td>\n",
              "      <td>NaN</td>\n",
              "      <td>2033.004526</td>\n",
              "      <td>8.321971e+05</td>\n",
              "      <td>10.503675</td>\n",
              "      <td>2119.097861</td>\n",
              "      <td>10700.279888</td>\n",
              "      <td>101.354911</td>\n",
              "      <td>10414.075263</td>\n",
              "      <td>10.860626</td>\n",
              "      <td>1.716548</td>\n",
              "      <td>102.045514</td>\n",
              "      <td>10.073451</td>\n",
              "      <td>880.965682</td>\n",
              "      <td>NaN</td>\n",
              "      <td>4784.223551</td>\n",
              "      <td>10968.228448</td>\n",
              "      <td>NaN</td>\n",
              "      <td>937.225484</td>\n",
              "      <td>...</td>\n",
              "      <td>1.796449</td>\n",
              "      <td>104811.157714</td>\n",
              "      <td>1.091030e+06</td>\n",
              "      <td>1052.815245</td>\n",
              "      <td>82.458489</td>\n",
              "      <td>10487.069231</td>\n",
              "      <td>695.406075</td>\n",
              "      <td>10985.255804</td>\n",
              "      <td>1.886463</td>\n",
              "      <td>1.072502e+06</td>\n",
              "      <td>8.178066</td>\n",
              "      <td>557053.464687</td>\n",
              "      <td>1060.352954</td>\n",
              "      <td>10458.065277</td>\n",
              "      <td>108798.115287</td>\n",
              "      <td>100.207625</td>\n",
              "      <td>NaN</td>\n",
              "      <td>95559.700238</td>\n",
              "      <td>1028.505709</td>\n",
              "      <td>212339.931756</td>\n",
              "      <td>99387.412802</td>\n",
              "      <td>1818.087105</td>\n",
              "      <td>101.159059</td>\n",
              "      <td>1073.745683</td>\n",
              "      <td>1017.273256</td>\n",
              "      <td>NaN</td>\n",
              "      <td>NaN</td>\n",
              "      <td>1.746126</td>\n",
              "      <td>-2661.694233</td>\n",
              "      <td>1025.245447</td>\n",
              "      <td>1.086806e+06</td>\n",
              "      <td>-787.397942</td>\n",
              "      <td>10493.095660</td>\n",
              "      <td>10.586492</td>\n",
              "      <td>9.463962</td>\n",
              "      <td>917.094909</td>\n",
              "      <td>10.231822</td>\n",
              "      <td>1.007163e+06</td>\n",
              "      <td>95695.020645</td>\n",
              "      <td>105161.109422</td>\n",
              "    </tr>\n",
              "    <tr>\n",
              "      <th>2</th>\n",
              "      <td>2.0</td>\n",
              "      <td>11.052185</td>\n",
              "      <td>832442.896307</td>\n",
              "      <td>20585.512844</td>\n",
              "      <td>1003.953827</td>\n",
              "      <td>9.231756e+05</td>\n",
              "      <td>9.212979</td>\n",
              "      <td>597900.426764</td>\n",
              "      <td>10738.092422</td>\n",
              "      <td>1.027863e+06</td>\n",
              "      <td>785176.223468</td>\n",
              "      <td>47259.321206</td>\n",
              "      <td>103.365571</td>\n",
              "      <td>69377.195188</td>\n",
              "      <td>828900.306175</td>\n",
              "      <td>NaN</td>\n",
              "      <td>10.667846</td>\n",
              "      <td>155995.367237</td>\n",
              "      <td>10.437764</td>\n",
              "      <td>94.987987</td>\n",
              "      <td>101.695502</td>\n",
              "      <td>100.034049</td>\n",
              "      <td>NaN</td>\n",
              "      <td>2138.054129</td>\n",
              "      <td>6.792212e+05</td>\n",
              "      <td>10.967175</td>\n",
              "      <td>1926.041068</td>\n",
              "      <td>10633.374493</td>\n",
              "      <td>107.429192</td>\n",
              "      <td>12163.033117</td>\n",
              "      <td>10.581398</td>\n",
              "      <td>2.340156</td>\n",
              "      <td>101.247931</td>\n",
              "      <td>10.782089</td>\n",
              "      <td>NaN</td>\n",
              "      <td>139494.776583</td>\n",
              "      <td>4317.864410</td>\n",
              "      <td>10628.203050</td>\n",
              "      <td>10381.020335</td>\n",
              "      <td>977.000200</td>\n",
              "      <td>...</td>\n",
              "      <td>2.932762</td>\n",
              "      <td>101814.683255</td>\n",
              "      <td>1.001865e+06</td>\n",
              "      <td>NaN</td>\n",
              "      <td>96.292749</td>\n",
              "      <td>11122.087230</td>\n",
              "      <td>862.889649</td>\n",
              "      <td>10308.209427</td>\n",
              "      <td>2.406808</td>\n",
              "      <td>1.048036e+06</td>\n",
              "      <td>NaN</td>\n",
              "      <td>396496.091177</td>\n",
              "      <td>1004.185813</td>\n",
              "      <td>10249.487036</td>\n",
              "      <td>NaN</td>\n",
              "      <td>106.147877</td>\n",
              "      <td>94.671834</td>\n",
              "      <td>91827.987615</td>\n",
              "      <td>1061.749457</td>\n",
              "      <td>212339.935348</td>\n",
              "      <td>108348.187401</td>\n",
              "      <td>1895.067520</td>\n",
              "      <td>NaN</td>\n",
              "      <td>1015.708474</td>\n",
              "      <td>903.520905</td>\n",
              "      <td>100.032696</td>\n",
              "      <td>108205.355183</td>\n",
              "      <td>2.421048</td>\n",
              "      <td>-2671.968203</td>\n",
              "      <td>1039.024306</td>\n",
              "      <td>1.018533e+06</td>\n",
              "      <td>-906.997242</td>\n",
              "      <td>10959.516944</td>\n",
              "      <td>10.769287</td>\n",
              "      <td>10.342160</td>\n",
              "      <td>637.027802</td>\n",
              "      <td>10.705461</td>\n",
              "      <td>1.019955e+06</td>\n",
              "      <td>80253.299882</td>\n",
              "      <td>104177.051666</td>\n",
              "    </tr>\n",
              "  </tbody>\n",
              "</table>\n",
              "<p>3 rows × 833 columns</p>\n",
              "</div>"
            ],
            "text/plain": [
              "    id         x0             x1  ...          x829          x830           x831\n",
              "0  0.0  10.891876  832442.812375  ...  1.036263e+06  85338.558539  103088.664210\n",
              "1  1.0  11.512994  832442.898114  ...  1.007163e+06  95695.020645  105161.109422\n",
              "2  2.0  11.052185  832442.896307  ...  1.019955e+06  80253.299882  104177.051666\n",
              "\n",
              "[3 rows x 833 columns]"
            ]
          },
          "metadata": {},
          "execution_count": 5
        }
      ]
    },
    {
      "cell_type": "code",
      "metadata": {
        "colab": {
          "base_uri": "https://localhost:8080/",
          "height": 232
        },
        "id": "_90kQnJKDRvX",
        "outputId": "335ee9ca-3633-4888-cdee-2d215fde532b"
      },
      "source": [
        "train_x.iloc[0:3]"
      ],
      "execution_count": 6,
      "outputs": [
        {
          "output_type": "execute_result",
          "data": {
            "text/html": [
              "<div>\n",
              "<style scoped>\n",
              "    .dataframe tbody tr th:only-of-type {\n",
              "        vertical-align: middle;\n",
              "    }\n",
              "\n",
              "    .dataframe tbody tr th {\n",
              "        vertical-align: top;\n",
              "    }\n",
              "\n",
              "    .dataframe thead th {\n",
              "        text-align: right;\n",
              "    }\n",
              "</style>\n",
              "<table border=\"1\" class=\"dataframe\">\n",
              "  <thead>\n",
              "    <tr style=\"text-align: right;\">\n",
              "      <th></th>\n",
              "      <th>x0</th>\n",
              "      <th>x1</th>\n",
              "      <th>x2</th>\n",
              "      <th>x3</th>\n",
              "      <th>x4</th>\n",
              "      <th>x5</th>\n",
              "      <th>x6</th>\n",
              "      <th>x7</th>\n",
              "      <th>x8</th>\n",
              "      <th>x9</th>\n",
              "      <th>x10</th>\n",
              "      <th>x11</th>\n",
              "      <th>x12</th>\n",
              "      <th>x13</th>\n",
              "      <th>x14</th>\n",
              "      <th>x15</th>\n",
              "      <th>x16</th>\n",
              "      <th>x17</th>\n",
              "      <th>x18</th>\n",
              "      <th>x19</th>\n",
              "      <th>x20</th>\n",
              "      <th>x21</th>\n",
              "      <th>x22</th>\n",
              "      <th>x23</th>\n",
              "      <th>x24</th>\n",
              "      <th>x25</th>\n",
              "      <th>x26</th>\n",
              "      <th>x27</th>\n",
              "      <th>x28</th>\n",
              "      <th>x29</th>\n",
              "      <th>x30</th>\n",
              "      <th>x31</th>\n",
              "      <th>x32</th>\n",
              "      <th>x33</th>\n",
              "      <th>x34</th>\n",
              "      <th>x35</th>\n",
              "      <th>x36</th>\n",
              "      <th>x37</th>\n",
              "      <th>x38</th>\n",
              "      <th>x39</th>\n",
              "      <th>...</th>\n",
              "      <th>x792</th>\n",
              "      <th>x793</th>\n",
              "      <th>x794</th>\n",
              "      <th>x795</th>\n",
              "      <th>x796</th>\n",
              "      <th>x797</th>\n",
              "      <th>x798</th>\n",
              "      <th>x799</th>\n",
              "      <th>x800</th>\n",
              "      <th>x801</th>\n",
              "      <th>x802</th>\n",
              "      <th>x803</th>\n",
              "      <th>x804</th>\n",
              "      <th>x805</th>\n",
              "      <th>x806</th>\n",
              "      <th>x807</th>\n",
              "      <th>x808</th>\n",
              "      <th>x809</th>\n",
              "      <th>x810</th>\n",
              "      <th>x811</th>\n",
              "      <th>x812</th>\n",
              "      <th>x813</th>\n",
              "      <th>x814</th>\n",
              "      <th>x815</th>\n",
              "      <th>x816</th>\n",
              "      <th>x817</th>\n",
              "      <th>x818</th>\n",
              "      <th>x819</th>\n",
              "      <th>x820</th>\n",
              "      <th>x821</th>\n",
              "      <th>x822</th>\n",
              "      <th>x823</th>\n",
              "      <th>x824</th>\n",
              "      <th>x825</th>\n",
              "      <th>x826</th>\n",
              "      <th>x827</th>\n",
              "      <th>x828</th>\n",
              "      <th>x829</th>\n",
              "      <th>x830</th>\n",
              "      <th>x831</th>\n",
              "    </tr>\n",
              "  </thead>\n",
              "  <tbody>\n",
              "    <tr>\n",
              "      <th>0</th>\n",
              "      <td>10.891876</td>\n",
              "      <td>832442.812375</td>\n",
              "      <td>20585.544083</td>\n",
              "      <td>1028.369495</td>\n",
              "      <td>1.163780e+06</td>\n",
              "      <td>9.199135</td>\n",
              "      <td>597900.477629</td>\n",
              "      <td>NaN</td>\n",
              "      <td>1.144294e+06</td>\n",
              "      <td>785176.201298</td>\n",
              "      <td>38042.008654</td>\n",
              "      <td>106.644316</td>\n",
              "      <td>67475.900839</td>\n",
              "      <td>944696.306555</td>\n",
              "      <td>895.088214</td>\n",
              "      <td>10.819457</td>\n",
              "      <td>155995.454645</td>\n",
              "      <td>10.114602</td>\n",
              "      <td>98.776154</td>\n",
              "      <td>90.200020</td>\n",
              "      <td>107.176656</td>\n",
              "      <td>1.232961e+06</td>\n",
              "      <td>2538.045240</td>\n",
              "      <td>1.038292e+06</td>\n",
              "      <td>10.445353</td>\n",
              "      <td>1530.001316</td>\n",
              "      <td>10403.207060</td>\n",
              "      <td>101.974225</td>\n",
              "      <td>9902.072478</td>\n",
              "      <td>10.675578</td>\n",
              "      <td>1.965179</td>\n",
              "      <td>108.095109</td>\n",
              "      <td>10.491893</td>\n",
              "      <td>985.743949</td>\n",
              "      <td>139494.789412</td>\n",
              "      <td>5555.414472</td>\n",
              "      <td>10079.665710</td>\n",
              "      <td>NaN</td>\n",
              "      <td>1199.950457</td>\n",
              "      <td>14709.216512</td>\n",
              "      <td>...</td>\n",
              "      <td>2.586985</td>\n",
              "      <td>107835.473217</td>\n",
              "      <td>1.050203e+06</td>\n",
              "      <td>961.000963</td>\n",
              "      <td>102.726565</td>\n",
              "      <td>11230.077183</td>\n",
              "      <td>1132.878438</td>\n",
              "      <td>10955.849718</td>\n",
              "      <td>2.358928</td>\n",
              "      <td>1.079014e+06</td>\n",
              "      <td>10.271036</td>\n",
              "      <td>309702.424398</td>\n",
              "      <td>1074.952720</td>\n",
              "      <td>10083.165942</td>\n",
              "      <td>106208.115341</td>\n",
              "      <td>102.072379</td>\n",
              "      <td>119.507651</td>\n",
              "      <td>NaN</td>\n",
              "      <td>1077.836958</td>\n",
              "      <td>NaN</td>\n",
              "      <td>87766.029819</td>\n",
              "      <td>1857.070822</td>\n",
              "      <td>96.997544</td>\n",
              "      <td>NaN</td>\n",
              "      <td>1011.959739</td>\n",
              "      <td>89.184535</td>\n",
              "      <td>107577.830266</td>\n",
              "      <td>2.139276</td>\n",
              "      <td>-3163.219791</td>\n",
              "      <td>1057.888075</td>\n",
              "      <td>1.024198e+06</td>\n",
              "      <td>-855.549602</td>\n",
              "      <td>12176.073427</td>\n",
              "      <td>10.647729</td>\n",
              "      <td>10.916371</td>\n",
              "      <td>1220.065443</td>\n",
              "      <td>8.566724</td>\n",
              "      <td>1.036263e+06</td>\n",
              "      <td>85338.558539</td>\n",
              "      <td>103088.664210</td>\n",
              "    </tr>\n",
              "    <tr>\n",
              "      <th>1</th>\n",
              "      <td>11.512994</td>\n",
              "      <td>832442.898114</td>\n",
              "      <td>NaN</td>\n",
              "      <td>1012.624877</td>\n",
              "      <td>1.028911e+06</td>\n",
              "      <td>10.906408</td>\n",
              "      <td>597900.458612</td>\n",
              "      <td>8127.016078</td>\n",
              "      <td>1.099166e+06</td>\n",
              "      <td>785176.258299</td>\n",
              "      <td>50949.420639</td>\n",
              "      <td>NaN</td>\n",
              "      <td>93179.779900</td>\n",
              "      <td>926043.432843</td>\n",
              "      <td>1159.073327</td>\n",
              "      <td>10.403125</td>\n",
              "      <td>NaN</td>\n",
              "      <td>10.365511</td>\n",
              "      <td>104.569049</td>\n",
              "      <td>88.722820</td>\n",
              "      <td>102.703415</td>\n",
              "      <td>NaN</td>\n",
              "      <td>2033.004526</td>\n",
              "      <td>8.321971e+05</td>\n",
              "      <td>10.503675</td>\n",
              "      <td>2119.097861</td>\n",
              "      <td>10700.279888</td>\n",
              "      <td>101.354911</td>\n",
              "      <td>10414.075263</td>\n",
              "      <td>10.860626</td>\n",
              "      <td>1.716548</td>\n",
              "      <td>102.045514</td>\n",
              "      <td>10.073451</td>\n",
              "      <td>880.965682</td>\n",
              "      <td>NaN</td>\n",
              "      <td>4784.223551</td>\n",
              "      <td>10968.228448</td>\n",
              "      <td>NaN</td>\n",
              "      <td>937.225484</td>\n",
              "      <td>12616.740072</td>\n",
              "      <td>...</td>\n",
              "      <td>1.796449</td>\n",
              "      <td>104811.157714</td>\n",
              "      <td>1.091030e+06</td>\n",
              "      <td>1052.815245</td>\n",
              "      <td>82.458489</td>\n",
              "      <td>10487.069231</td>\n",
              "      <td>695.406075</td>\n",
              "      <td>10985.255804</td>\n",
              "      <td>1.886463</td>\n",
              "      <td>1.072502e+06</td>\n",
              "      <td>8.178066</td>\n",
              "      <td>557053.464687</td>\n",
              "      <td>1060.352954</td>\n",
              "      <td>10458.065277</td>\n",
              "      <td>108798.115287</td>\n",
              "      <td>100.207625</td>\n",
              "      <td>NaN</td>\n",
              "      <td>95559.700238</td>\n",
              "      <td>1028.505709</td>\n",
              "      <td>212339.931756</td>\n",
              "      <td>99387.412802</td>\n",
              "      <td>1818.087105</td>\n",
              "      <td>101.159059</td>\n",
              "      <td>1073.745683</td>\n",
              "      <td>1017.273256</td>\n",
              "      <td>NaN</td>\n",
              "      <td>NaN</td>\n",
              "      <td>1.746126</td>\n",
              "      <td>-2661.694233</td>\n",
              "      <td>1025.245447</td>\n",
              "      <td>1.086806e+06</td>\n",
              "      <td>-787.397942</td>\n",
              "      <td>10493.095660</td>\n",
              "      <td>10.586492</td>\n",
              "      <td>9.463962</td>\n",
              "      <td>917.094909</td>\n",
              "      <td>10.231822</td>\n",
              "      <td>1.007163e+06</td>\n",
              "      <td>95695.020645</td>\n",
              "      <td>105161.109422</td>\n",
              "    </tr>\n",
              "    <tr>\n",
              "      <th>2</th>\n",
              "      <td>11.052185</td>\n",
              "      <td>832442.896307</td>\n",
              "      <td>20585.512844</td>\n",
              "      <td>1003.953827</td>\n",
              "      <td>9.231756e+05</td>\n",
              "      <td>9.212979</td>\n",
              "      <td>597900.426764</td>\n",
              "      <td>10738.092422</td>\n",
              "      <td>1.027863e+06</td>\n",
              "      <td>785176.223468</td>\n",
              "      <td>47259.321206</td>\n",
              "      <td>103.365571</td>\n",
              "      <td>69377.195188</td>\n",
              "      <td>828900.306175</td>\n",
              "      <td>NaN</td>\n",
              "      <td>10.667846</td>\n",
              "      <td>155995.367237</td>\n",
              "      <td>10.437764</td>\n",
              "      <td>94.987987</td>\n",
              "      <td>101.695502</td>\n",
              "      <td>100.034049</td>\n",
              "      <td>NaN</td>\n",
              "      <td>2138.054129</td>\n",
              "      <td>6.792212e+05</td>\n",
              "      <td>10.967175</td>\n",
              "      <td>1926.041068</td>\n",
              "      <td>10633.374493</td>\n",
              "      <td>107.429192</td>\n",
              "      <td>12163.033117</td>\n",
              "      <td>10.581398</td>\n",
              "      <td>2.340156</td>\n",
              "      <td>101.247931</td>\n",
              "      <td>10.782089</td>\n",
              "      <td>NaN</td>\n",
              "      <td>139494.776583</td>\n",
              "      <td>4317.864410</td>\n",
              "      <td>10628.203050</td>\n",
              "      <td>10381.020335</td>\n",
              "      <td>977.000200</td>\n",
              "      <td>13070.565105</td>\n",
              "      <td>...</td>\n",
              "      <td>2.932762</td>\n",
              "      <td>101814.683255</td>\n",
              "      <td>1.001865e+06</td>\n",
              "      <td>NaN</td>\n",
              "      <td>96.292749</td>\n",
              "      <td>11122.087230</td>\n",
              "      <td>862.889649</td>\n",
              "      <td>10308.209427</td>\n",
              "      <td>2.406808</td>\n",
              "      <td>1.048036e+06</td>\n",
              "      <td>NaN</td>\n",
              "      <td>396496.091177</td>\n",
              "      <td>1004.185813</td>\n",
              "      <td>10249.487036</td>\n",
              "      <td>NaN</td>\n",
              "      <td>106.147877</td>\n",
              "      <td>94.671834</td>\n",
              "      <td>91827.987615</td>\n",
              "      <td>1061.749457</td>\n",
              "      <td>212339.935348</td>\n",
              "      <td>108348.187401</td>\n",
              "      <td>1895.067520</td>\n",
              "      <td>NaN</td>\n",
              "      <td>1015.708474</td>\n",
              "      <td>903.520905</td>\n",
              "      <td>100.032696</td>\n",
              "      <td>108205.355183</td>\n",
              "      <td>2.421048</td>\n",
              "      <td>-2671.968203</td>\n",
              "      <td>1039.024306</td>\n",
              "      <td>1.018533e+06</td>\n",
              "      <td>-906.997242</td>\n",
              "      <td>10959.516944</td>\n",
              "      <td>10.769287</td>\n",
              "      <td>10.342160</td>\n",
              "      <td>637.027802</td>\n",
              "      <td>10.705461</td>\n",
              "      <td>1.019955e+06</td>\n",
              "      <td>80253.299882</td>\n",
              "      <td>104177.051666</td>\n",
              "    </tr>\n",
              "  </tbody>\n",
              "</table>\n",
              "<p>3 rows × 832 columns</p>\n",
              "</div>"
            ],
            "text/plain": [
              "          x0             x1  ...          x830           x831\n",
              "0  10.891876  832442.812375  ...  85338.558539  103088.664210\n",
              "1  11.512994  832442.898114  ...  95695.020645  105161.109422\n",
              "2  11.052185  832442.896307  ...  80253.299882  104177.051666\n",
              "\n",
              "[3 rows x 832 columns]"
            ]
          },
          "metadata": {},
          "execution_count": 6
        }
      ]
    },
    {
      "cell_type": "code",
      "metadata": {
        "id": "WJ3n4gUnEB0A"
      },
      "source": [
        "train_cvsy=pd.read_csv('y_train.csv',dtype=np.double)\n",
        "train_y=train_cvsy.iloc[:,1:]"
      ],
      "execution_count": 7,
      "outputs": []
    },
    {
      "cell_type": "code",
      "metadata": {
        "colab": {
          "base_uri": "https://localhost:8080/",
          "height": 178
        },
        "id": "FnuRS-gREZlr",
        "outputId": "3d1d4d81-78a3-44c9-87f0-4babed444c1f"
      },
      "source": [
        "train_y.iloc[0:3]"
      ],
      "execution_count": 8,
      "outputs": [
        {
          "output_type": "execute_result",
          "data": {
            "text/html": [
              "<div>\n",
              "<style scoped>\n",
              "    .dataframe tbody tr th:only-of-type {\n",
              "        vertical-align: middle;\n",
              "    }\n",
              "\n",
              "    .dataframe tbody tr th {\n",
              "        vertical-align: top;\n",
              "    }\n",
              "\n",
              "    .dataframe thead th {\n",
              "        text-align: right;\n",
              "    }\n",
              "</style>\n",
              "<table border=\"1\" class=\"dataframe\">\n",
              "  <thead>\n",
              "    <tr style=\"text-align: right;\">\n",
              "      <th></th>\n",
              "      <th>y</th>\n",
              "    </tr>\n",
              "  </thead>\n",
              "  <tbody>\n",
              "    <tr>\n",
              "      <th>0</th>\n",
              "      <td>71.0</td>\n",
              "    </tr>\n",
              "    <tr>\n",
              "      <th>1</th>\n",
              "      <td>73.0</td>\n",
              "    </tr>\n",
              "    <tr>\n",
              "      <th>2</th>\n",
              "      <td>66.0</td>\n",
              "    </tr>\n",
              "  </tbody>\n",
              "</table>\n",
              "</div>"
            ],
            "text/plain": [
              "      y\n",
              "0  71.0\n",
              "1  73.0\n",
              "2  66.0"
            ]
          },
          "metadata": {},
          "execution_count": 8
        }
      ]
    },
    {
      "cell_type": "markdown",
      "metadata": {
        "id": "2iW6CIy3ILdV"
      },
      "source": [
        "###preprocess\n",
        "  #1.imputation of missing values\n",
        "  ###scikit-learn KNN imputer\n",
        "  #potential problem : sensitive to outlier\n",
        "  # parameter adjust n_neighbors= xxx try  different # could "
      ]
    },
    {
      "cell_type": "code",
      "metadata": {
        "id": "jKzgwEjXISDs"
      },
      "source": [
        "from sklearn.impute import KNNImputer"
      ],
      "execution_count": 9,
      "outputs": []
    },
    {
      "cell_type": "code",
      "metadata": {
        "id": "XHche0pOJsmf"
      },
      "source": [
        "\n",
        "imputer = KNNImputer(n_neighbors=5, weights='uniform', metric='nan_euclidean')\n",
        "train_xp=imputer.fit_transform(train_x)\n"
      ],
      "execution_count": 10,
      "outputs": []
    },
    {
      "cell_type": "code",
      "metadata": {
        "id": "E0JY7CRVahEZ"
      },
      "source": [
        "train_xp=pd.DataFrame(train_xp)"
      ],
      "execution_count": 11,
      "outputs": []
    },
    {
      "cell_type": "code",
      "metadata": {
        "id": "koAhFipkjHr3"
      },
      "source": [
        "#df.isnull().sum()"
      ],
      "execution_count": null,
      "outputs": []
    },
    {
      "cell_type": "markdown",
      "metadata": {
        "id": "5xZgLSm_ktTS"
      },
      "source": [
        "#Outlier Detection\n",
        "## isolation forest\n",
        " max_features, contamination, could try to reset \n",
        "\n",
        "you’ll generate the biggest performance boost by using a grid search technique with cross validation #todo"
      ]
    },
    {
      "cell_type": "code",
      "metadata": {
        "id": "mnrgvnNClEsx"
      },
      "source": [
        "from sklearn.ensemble import IsolationForest"
      ],
      "execution_count": 12,
      "outputs": []
    },
    {
      "cell_type": "code",
      "metadata": {
        "id": "x2Xd-E29pdIo"
      },
      "source": [
        "isofore=IsolationForest(n_estimators=50,max_features=10,max_samples='auto')\n",
        "train_xppl=isofore.fit_predict(train_xp)\n",
        "train_xpp=train_xp[(train_xppl!=-1)]\n",
        "train_ypp=train_y[(train_xppl!=-1)]"
      ],
      "execution_count": 13,
      "outputs": []
    },
    {
      "cell_type": "code",
      "metadata": {
        "colab": {
          "base_uri": "https://localhost:8080/"
        },
        "id": "knDnC58Qg0dr",
        "outputId": "7ac6ac03-eec2-44d3-e575-66eea57c452e"
      },
      "source": [
        "train_ypp.shape"
      ],
      "execution_count": 14,
      "outputs": [
        {
          "output_type": "execute_result",
          "data": {
            "text/plain": [
              "(1204, 1)"
            ]
          },
          "metadata": {},
          "execution_count": 14
        }
      ]
    },
    {
      "cell_type": "code",
      "metadata": {
        "colab": {
          "base_uri": "https://localhost:8080/"
        },
        "id": "q9z1gi39ZEqP",
        "outputId": "66e7b933-db90-4f2c-a176-02c558c39bfe"
      },
      "source": [
        "train_xpp.shape"
      ],
      "execution_count": 15,
      "outputs": [
        {
          "output_type": "execute_result",
          "data": {
            "text/plain": [
              "(1204, 832)"
            ]
          },
          "metadata": {},
          "execution_count": 15
        }
      ]
    },
    {
      "cell_type": "code",
      "metadata": {
        "colab": {
          "base_uri": "https://localhost:8080/"
        },
        "id": "84rDdg35g0mD",
        "outputId": "75a948bb-7db4-4040-c838-9bd09a2f016f"
      },
      "source": [
        "train_y.shape"
      ],
      "execution_count": 16,
      "outputs": [
        {
          "output_type": "execute_result",
          "data": {
            "text/plain": [
              "(1212, 1)"
            ]
          },
          "metadata": {},
          "execution_count": 16
        }
      ]
    },
    {
      "cell_type": "markdown",
      "metadata": {
        "id": "JWx_Tkhfhf16"
      },
      "source": [
        "simluate train test split\n",
        "\n"
      ]
    },
    {
      "cell_type": "code",
      "metadata": {
        "id": "o_d49T0jhkzG"
      },
      "source": [
        "xtrain=train_xpp.iloc[:700,:]\n",
        "ytrain=train_ypp.iloc[:700,:]\n",
        "xtest=train_xpp.iloc[700:1000,:]\n",
        "ytest=train_ypp.iloc[700:1000,:]"
      ],
      "execution_count": 17,
      "outputs": []
    },
    {
      "cell_type": "markdown",
      "metadata": {
        "id": "mR07YvEMiSdo"
      },
      "source": [
        "#Feature selection \n",
        "As F-test captures only linear dependency, it rates x_1 as the most discriminative feature. On the other hand, mutual information can capture any kind of dependency between variables and it rates x_2 as the most discriminative feature, which probably agrees better with our intuitive perception for this example. Both methods correctly marks x_3 as irrelevant.\n"
      ]
    },
    {
      "cell_type": "code",
      "metadata": {
        "id": "cuHIXvFXg0uw"
      },
      "source": [
        "from sklearn.feature_selection import SelectKBest\n",
        "from sklearn.feature_selection import mutual_info_regression"
      ],
      "execution_count": 18,
      "outputs": []
    },
    {
      "cell_type": "code",
      "metadata": {
        "id": "GHs5lv76g0zf"
      },
      "source": [
        "selector = SelectKBest(score_func=mutual_info_regression, k=100)\n",
        "selector.fit(xtrain,np.ravel(ytrain))\n",
        "train_xppp=selector.transform(xtrain)\n",
        "test_xp1p3=selector.transform(xtest)\n"
      ],
      "execution_count": 19,
      "outputs": []
    },
    {
      "cell_type": "code",
      "metadata": {
        "colab": {
          "base_uri": "https://localhost:8080/"
        },
        "id": "VoY4UH0Gb5tU",
        "outputId": "3781f77b-9822-4259-f20a-72686d85bf4c"
      },
      "source": [
        "test_xp1p3.shape"
      ],
      "execution_count": 20,
      "outputs": [
        {
          "output_type": "execute_result",
          "data": {
            "text/plain": [
              "(300, 100)"
            ]
          },
          "metadata": {},
          "execution_count": 20
        }
      ]
    },
    {
      "cell_type": "markdown",
      "metadata": {
        "id": "gZ-WPK9XZeq1"
      },
      "source": [
        " To identify the selected features we use get_support() function and filter out them from the features name list."
      ]
    },
    {
      "cell_type": "code",
      "metadata": {
        "id": "87bz9Cyag03p"
      },
      "source": [
        "filter = selector.get_support()\n",
        " "
      ],
      "execution_count": null,
      "outputs": []
    },
    {
      "cell_type": "markdown",
      "metadata": {
        "id": "NiEJ5ozpDFsi"
      },
      "source": [
        "Regression\n"
      ]
    },
    {
      "cell_type": "code",
      "metadata": {
        "id": "-W-9dTrEg07X"
      },
      "source": [
        "from sklearn.gaussian_process import GaussianProcessRegressor\n",
        "from sklearn.gaussian_process.kernels import RBF,DotProduct, ConstantKernel,WhiteKernel,Matern,RationalQuadratic"
      ],
      "execution_count": 21,
      "outputs": []
    },
    {
      "cell_type": "code",
      "metadata": {
        "id": "f9c-uziQFiIl"
      },
      "source": [
        "## simulate test & train "
      ],
      "execution_count": null,
      "outputs": []
    },
    {
      "cell_type": "code",
      "metadata": {
        "id": "mtgzJFfkIJ6r"
      },
      "source": [
        ""
      ],
      "execution_count": null,
      "outputs": []
    },
    {
      "cell_type": "code",
      "metadata": {
        "id": "k7C2M3hiFoPd"
      },
      "source": [
        ""
      ],
      "execution_count": null,
      "outputs": []
    },
    {
      "cell_type": "code",
      "metadata": {
        "id": "JZqyv4J0Ab26"
      },
      "source": [
        "kernel=RBF()+WhiteKernel()\n",
        "gpr=gpr = GaussianProcessRegressor(kernel=kernel,alpha=1e-10, n_restarts_optimizer=2, normalize_y=True, copy_X_train=False, random_state=None)\n",
        "#gpr.fit(train_xppp, ytrain)\n",
        "gpr.fit(xtrain,ytrain)\n",
        "#ypred=gpr.predict(test_xp1p3)\n",
        "ypred=gpr.predict(xtest)"
      ],
      "execution_count": 38,
      "outputs": []
    },
    {
      "cell_type": "code",
      "metadata": {
        "id": "Gxe_MjWkj2EH"
      },
      "source": [
        ""
      ],
      "execution_count": 28,
      "outputs": []
    },
    {
      "cell_type": "markdown",
      "metadata": {
        "id": "hQvtc33TAcCI"
      },
      "source": [
        "evaluation"
      ]
    },
    {
      "cell_type": "code",
      "metadata": {
        "id": "PVW1y9rdg0_v"
      },
      "source": [
        "from sklearn.metrics import r2_score"
      ],
      "execution_count": 32,
      "outputs": []
    },
    {
      "cell_type": "code",
      "metadata": {
        "colab": {
          "base_uri": "https://localhost:8080/"
        },
        "id": "BRPQPiNDAnRB",
        "outputId": "c8eb2838-78de-4369-bd83-6969478f5c57"
      },
      "source": [
        "score=r2_score(ytest,ypred)\n",
        "print(score)"
      ],
      "execution_count": 37,
      "outputs": [
        {
          "output_type": "stream",
          "name": "stdout",
          "text": [
            "-5.772605966658517e-05\n"
          ]
        }
      ]
    },
    {
      "cell_type": "code",
      "metadata": {
        "id": "AMUw_3SKyl6V"
      },
      "source": [
        "### test\n",
        "from sklearn import model_selection\n",
        "from sklearn.preprocessing import StandardScaler\n",
        "from sklearn.model_selection import train_test_split\n",
        "from sklearn.model_selection import GridSearchCV\n",
        "from sklearn.model_selection import cross_val_score\n",
        "from sklearn.metrics import mean_squared_error"
      ],
      "execution_count": null,
      "outputs": []
    },
    {
      "cell_type": "code",
      "metadata": {
        "id": "5aLSwkRMzNK-"
      },
      "source": [
        "X_train, X_test, y_train, y_test = train_test_split(train_xp, train_y, test_size=0.3, random_state=1)\n",
        "# scale the data using StandardScaler() so the various column values are on an even scale.\n",
        "scaler = StandardScaler()\n",
        "X_train = scaler.fit_transform(X_train)\n",
        "X_test = scaler.transform(X_test)"
      ],
      "execution_count": null,
      "outputs": []
    },
    {
      "cell_type": "code",
      "metadata": {
        "colab": {
          "base_uri": "https://localhost:8080/"
        },
        "id": "rqm1dEQqz7HT",
        "outputId": "26a009f1-3a64-4c51-ce67-f709994ade19"
      },
      "source": [
        "#X_train.shape"
      ],
      "execution_count": null,
      "outputs": [
        {
          "output_type": "execute_result",
          "data": {
            "text/plain": [
              "(848, 832)"
            ]
          },
          "metadata": {},
          "execution_count": 21
        }
      ]
    },
    {
      "cell_type": "markdown",
      "metadata": {
        "id": "A7Ne26F62DPx"
      },
      "source": [
        "grid search tuning hyperparameter"
      ]
    },
    {
      "cell_type": "code",
      "metadata": {
        "id": "myiIrhrn2BG8"
      },
      "source": [
        "model = IsolationForest(random_state=47)\n",
        "\n",
        "param_grid = {'n_estimators': [1000, 1500], \n",
        "              'max_samples': [10], \n",
        "              'contamination': ['auto', 0.0001, 0.0002], \n",
        "              'max_features': [10, 15], \n",
        "              'bootstrap': [True], \n",
        "              'n_jobs': [-1]}\n",
        "\n",
        "grid_search = model_selection.GridSearchCV(model, \n",
        "                                           param_grid,\n",
        "                                           scoring=\"neg_mean_squared_error\", \n",
        "                                           refit=True,\n",
        "                                           cv=10, \n",
        "                                           return_train_score=True)\n",
        "grid_search.fit(X_train, y_train)\n",
        "\n",
        "best_model = grid_search.fit(X_train, y_train)\n",
        "print('Optimum parameters', best_model.best_params_)"
      ],
      "execution_count": null,
      "outputs": []
    }
  ]
}